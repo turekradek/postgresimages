{
 "cells": [
  {
   "cell_type": "code",
   "execution_count": 1,
   "metadata": {},
   "outputs": [],
   "source": [
    "import json\n",
    "import uuid\n",
    "import random\n",
    "from datetime import datetime, timedelta\n",
    "import os \n",
    "import sys \n",
    "import pandas as pd\n",
    "import numpy as np\n",
    "import requests\n",
    "import zipfile\n",
    "import xlsxwriter\n",
    "import  psycopg2\n",
    "from sqlalchemy import create_engine, inspect\n",
    "import sqlalchemy as sa\n",
    "import openpyxl\n",
    "import argparse "
   ]
  },
  {
   "cell_type": "code",
   "execution_count": 4,
   "metadata": {},
   "outputs": [],
   "source": [
    "file_wyscigi = r'Wyscigi.txt'\n",
    "def file_test_to_df(file_name):\n",
    "    df = pd.read_table(file_name,sep=';')#,header=True)\n",
    "    return df"
   ]
  },
  {
   "cell_type": "code",
   "execution_count": 5,
   "metadata": {},
   "outputs": [],
   "source": [
    "wyscigi = file_test_to_df( file_wyscigi)"
   ]
  },
  {
   "cell_type": "code",
   "execution_count": 2,
   "metadata": {},
   "outputs": [],
   "source": [
    "file_excel = r'unavailable_sessions_.xlsx'\n"
   ]
  },
  {
   "cell_type": "code",
   "execution_count": 3,
   "metadata": {},
   "outputs": [
    {
     "name": "stdout",
     "output_type": "stream",
     "text": [
      "['ODFReader', 'OpenpyxlReader', 'PyxlsbReader', 'XlrdReader', '__annotations__', '__class__', '__delattr__', '__dict__', '__dir__', '__doc__', '__enter__', '__eq__', '__exit__', '__format__', '__fspath__', '__ge__', '__getattribute__', '__getstate__', '__gt__', '__hash__', '__init__', '__init_subclass__', '__le__', '__lt__', '__module__', '__ne__', '__new__', '__reduce__', '__reduce_ex__', '__repr__', '__setattr__', '__sizeof__', '__str__', '__subclasshook__', '__weakref__', '_engines', '_io', '_reader', 'book', 'close', 'engine', 'io', 'parse', 'sheet_names', 'storage_options']\n"
     ]
    }
   ],
   "source": [
    "excel_file = pd.ExcelFile(file_excel )\n",
    "print( dir(excel_file))\n"
   ]
  },
  {
   "cell_type": "code",
   "execution_count": 4,
   "metadata": {},
   "outputs": [
    {
     "name": "stdout",
     "output_type": "stream",
     "text": [
      "['Search by session ID', 'Search by session path', 'Unavailable sessions', 'SMS update history', 'FMS removal history', 'Marker update history', 'Image metadata removal history', 'Thumbnails removal history', 'Erasure coding volumes']\n"
     ]
    }
   ],
   "source": [
    "sheets_name = excel_file.sheet_names\n",
    "print( sheets_name )"
   ]
  },
  {
   "cell_type": "code",
   "execution_count": 6,
   "metadata": {},
   "outputs": [
    {
     "name": "stdout",
     "output_type": "stream",
     "text": [
      "{'search_by_session_id': 'Search by session ID', 'search_by_session_path': 'Search by session path', 'unavailable_sessions': 'Unavailable sessions', 'sms_update_history': 'SMS update history', 'fms_removal_history': 'FMS removal history', 'marker_update_history': 'Marker update history', 'image_metadata_removal_history': 'Image metadata removal history', 'thumbnails_removal_history': 'Thumbnails removal history', 'erasure_coding_volumes': 'Erasure coding volumes'}\n"
     ]
    }
   ],
   "source": [
    "sheets_names_dict = {}\n",
    "for name in sheets_name:\n",
    "    name_temp = name.lower()\n",
    "    name_temp = name_temp.replace(\" \",\"_\")\n",
    "    sheets_names_dict[name_temp] = name\n",
    "print( sheets_names_dict)\n",
    "    "
   ]
  },
  {
   "cell_type": "code",
   "execution_count": 8,
   "metadata": {},
   "outputs": [
    {
     "name": "stdout",
     "output_type": "stream",
     "text": [
      "{'search_by_session_id': 'Search by session ID', 'search_by_session_path': 'Search by session path', 'unavailable_sessions': 'Unavailable sessions', 'sms_update_history': 'SMS update history', 'fms_removal_history': 'FMS removal history', 'marker_update_history': 'Marker update history', 'image_metadata_removal_history': 'Image metadata removal history', 'thumbnails_removal_history': 'Thumbnails removal history', 'erasure_coding_volumes': 'Erasure coding volumes'}\n",
      "['unavailable_sessions', 'sms_update_history', 'fms_removal_history', 'marker_update_history', 'image_metadata_removal_history', 'thumbnails_removal_history', 'erasure_coding_volumes']\n"
     ]
    }
   ],
   "source": [
    "print( sheets_names_dict)\n",
    "list_sheets_to_panda = ['unavailable_sessions', 'sms_update_history', 'fms_removal_history', 'marker_update_history', 'image_metadata_removal_history', 'thumbnails_removal_history' , 'erasure_coding_volumes']\n",
    "print( list_sheets_to_panda )"
   ]
  },
  {
   "cell_type": "code",
   "execution_count": 37,
   "metadata": {},
   "outputs": [],
   "source": [
    "# Replace 'your_excel_file.xlsx' with the path to your Excel file.\n",
    "excel_file = 'your_excel_file.xlsx'\n",
    "def read_excel( excel_file, sheet_name  ):\n",
    "    # Open the Excel file.\n",
    "    workbook = openpyxl.load_workbook(excel_file, data_only=False)\n",
    "\n",
    "    # Select the desired sheet. Replace 'Sheet1' with the name of the sheet you want to read.\n",
    "    sheet = workbook[sheet_name]\n",
    "\n",
    "    # Iterate through the rows in the sheet and read data line by line.\n",
    "    for row in sheet.iter_rows(values_only=False):\n",
    "        for cell in row:\n",
    "            if cell.hyperlink:\n",
    "                # If the cell contains a hyperlink, print the hyperlink address.\n",
    "                print(cell.hyperlink.target)\n",
    "            else:\n",
    "                # If the cell doesn't contain a hyperlink, print its value or formula.\n",
    "                print(cell.value, end='\\t')\n",
    "        print()  # Move to the next line for the next row.\n",
    "\n",
    "    # Close the Excel file.\n",
    "    workbook.close()\n",
    "        "
   ]
  },
  {
   "cell_type": "code",
   "execution_count": 38,
   "metadata": {},
   "outputs": [
    {
     "name": "stdout",
     "output_type": "stream",
     "text": [
      "session_id\tstatus_updated\tchg\tlink\t\n",
      "000d9a1b-28e9-45ea-abc5-0187843b1417\ttrue\tCHG0788076\t=HYPERLINK(\"https://csc.service-now.com/nav_to.do?uri=change_request.do?sysparm_query=number=\"&session_metadata[[#This Row],[chg]],\"Link\")\t\n",
      "0014f318-5109-4e14-a055-018409a90969\ttrue\tCHG0788076\t=HYPERLINK(\"https://csc.service-now.com/nav_to.do?uri=change_request.do?sysparm_query=number=\"&session_metadata[[#This Row],[chg]],\"Link\")\t\n",
      "00234e2b-fdd7-4dc4-a368-0182d9f3a28a\ttrue\tCHG0788076\t=HYPERLINK(\"https://csc.service-now.com/nav_to.do?uri=change_request.do?sysparm_query=number=\"&session_metadata[[#This Row],[chg]],\"Link\")\t\n",
      "00253160-d55b-4c3e-ad75-018718d80756\ttrue\tCHG0788076\t=HYPERLINK(\"https://csc.service-now.com/nav_to.do?uri=change_request.do?sysparm_query=number=\"&session_metadata[[#This Row],[chg]],\"Link\")\t\n",
      "0030c011-9ae5-4636-aedc-0187a403e759\ttrue\tCHG0788076\t=HYPERLINK(\"https://csc.service-now.com/nav_to.do?uri=change_request.do?sysparm_query=number=\"&session_metadata[[#This Row],[chg]],\"Link\")\t\n",
      "0031cc63-557d-4394-a5cc-017e4d2072e7\ttrue\tCHG0788076\t=HYPERLINK(\"https://csc.service-now.com/nav_to.do?uri=change_request.do?sysparm_query=number=\"&session_metadata[[#This Row],[chg]],\"Link\")\t\n",
      "00372c56-fd43-4c92-a37e-018829567819\ttrue\tCHG0788076\t=HYPERLINK(\"https://csc.service-now.com/nav_to.do?uri=change_request.do?sysparm_query=number=\"&session_metadata[[#This Row],[chg]],\"Link\")\t\n",
      "003dd6da-cebe-4570-a1a2-018870a2b469\ttrue\tCHG0788076\t=HYPERLINK(\"https://csc.service-now.com/nav_to.do?uri=change_request.do?sysparm_query=number=\"&session_metadata[[#This Row],[chg]],\"Link\")\t\n",
      "004a1100-e0b9-4dcf-ac2a-018704a3a412\ttrue\tCHG0788076\t=HYPERLINK(\"https://csc.service-now.com/nav_to.do?uri=change_request.do?sysparm_query=number=\"&session_metadata[[#This Row],[chg]],\"Link\")\t\n",
      "004aeb16-ac6d-44b7-a717-018340437693\ttrue\tCHG0788076\t=HYPERLINK(\"https://csc.service-now.com/nav_to.do?uri=change_request.do?sysparm_query=number=\"&session_metadata[[#This Row],[chg]],\"Link\")\t\n",
      "005437ad-d34c-4f17-a13b-018267952bac\ttrue\tCHG0788076\t=HYPERLINK(\"https://csc.service-now.com/nav_to.do?uri=change_request.do?sysparm_query=number=\"&session_metadata[[#This Row],[chg]],\"Link\")\t\n",
      "0057f4c7-ef5c-420e-ae0c-0187ffad0b7b\ttrue\tCHG0788076\t=HYPERLINK(\"https://csc.service-now.com/nav_to.do?uri=change_request.do?sysparm_query=number=\"&session_metadata[[#This Row],[chg]],\"Link\")\t\n",
      "005f3e42-43d5-4519-aa1c-0187c7026bfa\ttrue\tCHG0788076\t=HYPERLINK(\"https://csc.service-now.com/nav_to.do?uri=change_request.do?sysparm_query=number=\"&session_metadata[[#This Row],[chg]],\"Link\")\t\n",
      "006f1a4c-af04-451c-ad3c-01847bdd6dfd\ttrue\tCHG0788076\t=HYPERLINK(\"https://csc.service-now.com/nav_to.do?uri=change_request.do?sysparm_query=number=\"&session_metadata[[#This Row],[chg]],\"Link\")\t\n",
      "007c3096-639d-4263-a147-018810abb30e\ttrue\tCHG0788076\t=HYPERLINK(\"https://csc.service-now.com/nav_to.do?uri=change_request.do?sysparm_query=number=\"&session_metadata[[#This Row],[chg]],\"Link\")\t\n",
      "00839ce0-b686-4c4c-aea4-0186a110c0e8\ttrue\tCHG0788076\t=HYPERLINK(\"https://csc.service-now.com/nav_to.do?uri=change_request.do?sysparm_query=number=\"&session_metadata[[#This Row],[chg]],\"Link\")\t\n",
      "009f34ec-534c-4612-ac51-01824409eeae\ttrue\tCHG0788076\t=HYPERLINK(\"https://csc.service-now.com/nav_to.do?uri=change_request.do?sysparm_query=number=\"&session_metadata[[#This Row],[chg]],\"Link\")\t\n",
      "00aa3083-5a14-4eba-abb3-0187be0a7468\ttrue\tCHG0788076\t=HYPERLINK(\"https://csc.service-now.com/nav_to.do?uri=change_request.do?sysparm_query=number=\"&session_metadata[[#This Row],[chg]],\"Link\")\t\n",
      "00aa827b-9f3e-479b-a6d5-01874cbc26a9\ttrue\tCHG0788076\t=HYPERLINK(\"https://csc.service-now.com/nav_to.do?uri=change_request.do?sysparm_query=number=\"&session_metadata[[#This Row],[chg]],\"Link\")\t\n",
      "00d76c91-ef7d-488c-a003-0186db026bee\ttrue\tCHG0788076\t=HYPERLINK(\"https://csc.service-now.com/nav_to.do?uri=change_request.do?sysparm_query=number=\"&session_metadata[[#This Row],[chg]],\"Link\")\t\n",
      "00e02029-a6d3-48c8-ae28-0188107157c8\ttrue\tCHG0788076\t=HYPERLINK(\"https://csc.service-now.com/nav_to.do?uri=change_request.do?sysparm_query=number=\"&session_metadata[[#This Row],[chg]],\"Link\")\t\n",
      "00e8edf2-872d-432d-a917-01880f914752\ttrue\tCHG0788076\t=HYPERLINK(\"https://csc.service-now.com/nav_to.do?uri=change_request.do?sysparm_query=number=\"&session_metadata[[#This Row],[chg]],\"Link\")\t\n",
      "00e9d2a4-c25b-46ed-acaa-0187e1358bd1\ttrue\tCHG0788076\t=HYPERLINK(\"https://csc.service-now.com/nav_to.do?uri=change_request.do?sysparm_query=number=\"&session_metadata[[#This Row],[chg]],\"Link\")\t\n",
      "01012d35-18fd-4cb0-af39-01879f8b7a63\ttrue\tCHG0788076\t=HYPERLINK(\"https://csc.service-now.com/nav_to.do?uri=change_request.do?sysparm_query=number=\"&session_metadata[[#This Row],[chg]],\"Link\")\t\n",
      "0105b64c-18f4-4f97-a741-01877f606040\ttrue\tCHG0788076\t=HYPERLINK(\"https://csc.service-now.com/nav_to.do?uri=change_request.do?sysparm_query=number=\"&session_metadata[[#This Row],[chg]],\"Link\")\t\n",
      "011c818d-ce98-435f-a477-0187323a85a0\ttrue\tCHG0788076\t=HYPERLINK(\"https://csc.service-now.com/nav_to.do?uri=change_request.do?sysparm_query=number=\"&session_metadata[[#This Row],[chg]],\"Link\")\t\n",
      "011f53c6-7a76-4ab0-a312-0182f3947e06\ttrue\tCHG0788076\t=HYPERLINK(\"https://csc.service-now.com/nav_to.do?uri=change_request.do?sysparm_query=number=\"&session_metadata[[#This Row],[chg]],\"Link\")\t\n",
      "0135bfe2-2a9c-4c74-a552-01879489578a\ttrue\tCHG0788076\t=HYPERLINK(\"https://csc.service-now.com/nav_to.do?uri=change_request.do?sysparm_query=number=\"&session_metadata[[#This Row],[chg]],\"Link\")\t\n",
      "013a0d0b-80e2-4756-a543-018842416a45\ttrue\tCHG0788076\t=HYPERLINK(\"https://csc.service-now.com/nav_to.do?uri=change_request.do?sysparm_query=number=\"&session_metadata[[#This Row],[chg]],\"Link\")\t\n",
      "013a5e95-32db-4ccf-a23f-0188577ed244\ttrue\tCHG0788076\t=HYPERLINK(\"https://csc.service-now.com/nav_to.do?uri=change_request.do?sysparm_query=number=\"&session_metadata[[#This Row],[chg]],\"Link\")\t\n",
      "0162d412-da4e-4393-a2dc-0187b6e52417\ttrue\tCHG0788076\t=HYPERLINK(\"https://csc.service-now.com/nav_to.do?uri=change_request.do?sysparm_query=number=\"&session_metadata[[#This Row],[chg]],\"Link\")\t\n",
      "016de2c1-1924-4bb6-a756-018828728b31\ttrue\tCHG0788076\t=HYPERLINK(\"https://csc.service-now.com/nav_to.do?uri=change_request.do?sysparm_query=number=\"&session_metadata[[#This Row],[chg]],\"Link\")\t\n",
      "0173d679-17d9-4bea-a745-0187a3d9ee55\ttrue\tCHG0788076\t=HYPERLINK(\"https://csc.service-now.com/nav_to.do?uri=change_request.do?sysparm_query=number=\"&session_metadata[[#This Row],[chg]],\"Link\")\t\n",
      "0173ffe8-8bc0-436d-a332-0186d9b10a1e\ttrue\tCHG0788076\t=HYPERLINK(\"https://csc.service-now.com/nav_to.do?uri=change_request.do?sysparm_query=number=\"&session_metadata[[#This Row],[chg]],\"Link\")\t\n",
      "01788f4a-5d79-4b50-ace0-018838d81c18\ttrue\tCHG0788076\t=HYPERLINK(\"https://csc.service-now.com/nav_to.do?uri=change_request.do?sysparm_query=number=\"&session_metadata[[#This Row],[chg]],\"Link\")\t\n",
      "017fc2ae-7f7d-4c49-a45f-01870a2b7b57\ttrue\tCHG0788076\t=HYPERLINK(\"https://csc.service-now.com/nav_to.do?uri=change_request.do?sysparm_query=number=\"&session_metadata[[#This Row],[chg]],\"Link\")\t\n",
      "01814fad-a260-4502-a563-0187c87b4b2b\ttrue\tCHG0788076\t=HYPERLINK(\"https://csc.service-now.com/nav_to.do?uri=change_request.do?sysparm_query=number=\"&session_metadata[[#This Row],[chg]],\"Link\")\t\n",
      "01847b4a-1c53-473d-af3a-01877483ee8d\ttrue\tCHG0788076\t=HYPERLINK(\"https://csc.service-now.com/nav_to.do?uri=change_request.do?sysparm_query=number=\"&session_metadata[[#This Row],[chg]],\"Link\")\t\n",
      "01944cea-c595-4333-aaa0-018340b3b683\ttrue\tCHG0788076\t=HYPERLINK(\"https://csc.service-now.com/nav_to.do?uri=change_request.do?sysparm_query=number=\"&session_metadata[[#This Row],[chg]],\"Link\")\t\n",
      "0194df4a-1a83-44f3-a804-0187e17897fd\ttrue\tCHG0788076\t=HYPERLINK(\"https://csc.service-now.com/nav_to.do?uri=change_request.do?sysparm_query=number=\"&session_metadata[[#This Row],[chg]],\"Link\")\t\n",
      "01987d63-f560-4075-abc6-018721750408\ttrue\tCHG0788076\t=HYPERLINK(\"https://csc.service-now.com/nav_to.do?uri=change_request.do?sysparm_query=number=\"&session_metadata[[#This Row],[chg]],\"Link\")\t\n",
      "01a1d099-26c5-46ab-af7d-0187472c58b9\ttrue\tCHG0788076\t=HYPERLINK(\"https://csc.service-now.com/nav_to.do?uri=change_request.do?sysparm_query=number=\"&session_metadata[[#This Row],[chg]],\"Link\")\t\n",
      "01bc040e-bdc0-469b-a3bc-01878de08231\ttrue\tCHG0788076\t=HYPERLINK(\"https://csc.service-now.com/nav_to.do?uri=change_request.do?sysparm_query=number=\"&session_metadata[[#This Row],[chg]],\"Link\")\t\n",
      "01cc259b-2426-4de3-aebb-0187e6e37d4d\ttrue\tCHG0788076\t=HYPERLINK(\"https://csc.service-now.com/nav_to.do?uri=change_request.do?sysparm_query=number=\"&session_metadata[[#This Row],[chg]],\"Link\")\t\n",
      "01cfa271-07e8-4a2d-a3a3-01886c9e2066\ttrue\tCHG0788076\t=HYPERLINK(\"https://csc.service-now.com/nav_to.do?uri=change_request.do?sysparm_query=number=\"&session_metadata[[#This Row],[chg]],\"Link\")\t\n",
      "01f21408-4c56-46a4-a070-018851869ec7\ttrue\tCHG0788076\t=HYPERLINK(\"https://csc.service-now.com/nav_to.do?uri=change_request.do?sysparm_query=number=\"&session_metadata[[#This Row],[chg]],\"Link\")\t\n",
      "01f3f4ab-1c10-44a8-a579-01874c3fd400\ttrue\tCHG0788076\t=HYPERLINK(\"https://csc.service-now.com/nav_to.do?uri=change_request.do?sysparm_query=number=\"&session_metadata[[#This Row],[chg]],\"Link\")\t\n",
      "01ff5800-ec14-40aa-aa79-018842b87acb\ttrue\tCHG0788076\t=HYPERLINK(\"https://csc.service-now.com/nav_to.do?uri=change_request.do?sysparm_query=number=\"&session_metadata[[#This Row],[chg]],\"Link\")\t\n",
      "02045f7a-eef7-49a1-ad12-0187e07141e8\ttrue\tCHG0788076\t=HYPERLINK(\"https://csc.service-now.com/nav_to.do?uri=change_request.do?sysparm_query=number=\"&session_metadata[[#This Row],[chg]],\"Link\")\t\n",
      "022a1938-0c00-435b-a201-0187946eb6d7\ttrue\tCHG0788076\t=HYPERLINK(\"https://csc.service-now.com/nav_to.do?uri=change_request.do?sysparm_query=number=\"&session_metadata[[#This Row],[chg]],\"Link\")\t\n",
      "023123c4-51b0-433b-ac57-01874bbbd006\ttrue\tCHG0788076\t=HYPERLINK(\"https://csc.service-now.com/nav_to.do?uri=change_request.do?sysparm_query=number=\"&session_metadata[[#This Row],[chg]],\"Link\")\t\n",
      "02478e50-288e-4228-a055-0187b38c12b4\ttrue\tCHG0788076\t=HYPERLINK(\"https://csc.service-now.com/nav_to.do?uri=change_request.do?sysparm_query=number=\"&session_metadata[[#This Row],[chg]],\"Link\")\t\n",
      "02515808-82bb-4f4e-a151-01884862fe50\ttrue\tCHG0788076\t=HYPERLINK(\"https://csc.service-now.com/nav_to.do?uri=change_request.do?sysparm_query=number=\"&session_metadata[[#This Row],[chg]],\"Link\")\t\n",
      "02879777-2c8b-4e43-aefc-018805338d52\ttrue\tCHG0788076\t=HYPERLINK(\"https://csc.service-now.com/nav_to.do?uri=change_request.do?sysparm_query=number=\"&session_metadata[[#This Row],[chg]],\"Link\")\t\n",
      "029297ed-2044-4d6f-ac45-018871c7efc4\ttrue\tCHG0788076\t=HYPERLINK(\"https://csc.service-now.com/nav_to.do?uri=change_request.do?sysparm_query=number=\"&session_metadata[[#This Row],[chg]],\"Link\")\t\n",
      "0298c2a5-1201-49ac-ac64-01873cdfa194\ttrue\tCHG0788076\t=HYPERLINK(\"https://csc.service-now.com/nav_to.do?uri=change_request.do?sysparm_query=number=\"&session_metadata[[#This Row],[chg]],\"Link\")\t\n",
      "02a4e16b-7622-49ca-adc8-0183215e3a99\ttrue\tCHG0788076\t=HYPERLINK(\"https://csc.service-now.com/nav_to.do?uri=change_request.do?sysparm_query=number=\"&session_metadata[[#This Row],[chg]],\"Link\")\t\n",
      "02b74171-2499-4b84-a1ac-018460613d50\ttrue\tCHG0788076\t=HYPERLINK(\"https://csc.service-now.com/nav_to.do?uri=change_request.do?sysparm_query=number=\"&session_metadata[[#This Row],[chg]],\"Link\")\t\n",
      "02d1e5fe-8389-446a-a8d9-01879adecf29\ttrue\tCHG0788076\t=HYPERLINK(\"https://csc.service-now.com/nav_to.do?uri=change_request.do?sysparm_query=number=\"&session_metadata[[#This Row],[chg]],\"Link\")\t\n",
      "02e01f48-3ef7-46f6-a352-0186ef976905\ttrue\tCHG0788076\t=HYPERLINK(\"https://csc.service-now.com/nav_to.do?uri=change_request.do?sysparm_query=number=\"&session_metadata[[#This Row],[chg]],\"Link\")\t\n",
      "02e3b20b-0758-4710-a30d-01825e33ea3f\ttrue\tCHG0788076\t=HYPERLINK(\"https://csc.service-now.com/nav_to.do?uri=change_request.do?sysparm_query=number=\"&session_metadata[[#This Row],[chg]],\"Link\")\t\n",
      "02f9934f-04e4-468f-a8a2-018799509c94\ttrue\tCHG0788076\t=HYPERLINK(\"https://csc.service-now.com/nav_to.do?uri=change_request.do?sysparm_query=number=\"&session_metadata[[#This Row],[chg]],\"Link\")\t\n",
      "02fbf174-dfdf-48b0-ac8e-0183358c51b9\ttrue\tCHG0788076\t=HYPERLINK(\"https://csc.service-now.com/nav_to.do?uri=change_request.do?sysparm_query=number=\"&session_metadata[[#This Row],[chg]],\"Link\")\t\n",
      "0315c00f-ff04-4128-a687-01879392b193\ttrue\tCHG0788076\t=HYPERLINK(\"https://csc.service-now.com/nav_to.do?uri=change_request.do?sysparm_query=number=\"&session_metadata[[#This Row],[chg]],\"Link\")\t\n",
      "03176abf-ac67-4faf-a089-018828806189\ttrue\tCHG0788076\t=HYPERLINK(\"https://csc.service-now.com/nav_to.do?uri=change_request.do?sysparm_query=number=\"&session_metadata[[#This Row],[chg]],\"Link\")\t\n",
      "03231388-c5dc-431b-a0bf-0186b5bfc87e\ttrue\tCHG0788076\t=HYPERLINK(\"https://csc.service-now.com/nav_to.do?uri=change_request.do?sysparm_query=number=\"&session_metadata[[#This Row],[chg]],\"Link\")\t\n",
      "033b88a0-c742-4c5b-a95c-0184a3c3cbd7\ttrue\tCHG0788076\t=HYPERLINK(\"https://csc.service-now.com/nav_to.do?uri=change_request.do?sysparm_query=number=\"&session_metadata[[#This Row],[chg]],\"Link\")\t\n",
      "0347e2bb-e283-4149-a3a3-018800e4f789\ttrue\tCHG0788076\t=HYPERLINK(\"https://csc.service-now.com/nav_to.do?uri=change_request.do?sysparm_query=number=\"&session_metadata[[#This Row],[chg]],\"Link\")\t\n",
      "0349152f-fa61-4f5a-a0a2-01875098f394\ttrue\tCHG0788076\t=HYPERLINK(\"https://csc.service-now.com/nav_to.do?uri=change_request.do?sysparm_query=number=\"&session_metadata[[#This Row],[chg]],\"Link\")\t\n",
      "034ca0d3-62a8-4bec-a7fd-01877eba470e\ttrue\tCHG0788076\t=HYPERLINK(\"https://csc.service-now.com/nav_to.do?uri=change_request.do?sysparm_query=number=\"&session_metadata[[#This Row],[chg]],\"Link\")\t\n",
      "0353a4d1-cd99-4952-a340-0187ff3c7ee4\ttrue\tCHG0788076\t=HYPERLINK(\"https://csc.service-now.com/nav_to.do?uri=change_request.do?sysparm_query=number=\"&session_metadata[[#This Row],[chg]],\"Link\")\t\n",
      "035a5476-d3a8-41f6-a31b-01884ca165d7\ttrue\tCHG0788076\t=HYPERLINK(\"https://csc.service-now.com/nav_to.do?uri=change_request.do?sysparm_query=number=\"&session_metadata[[#This Row],[chg]],\"Link\")\t\n",
      "035c89af-18af-4f49-a07a-0188579542f9\ttrue\tCHG0788076\t=HYPERLINK(\"https://csc.service-now.com/nav_to.do?uri=change_request.do?sysparm_query=number=\"&session_metadata[[#This Row],[chg]],\"Link\")\t\n",
      "03613c52-5734-4b28-abaf-0186a2593b6c\ttrue\tCHG0788076\t=HYPERLINK(\"https://csc.service-now.com/nav_to.do?uri=change_request.do?sysparm_query=number=\"&session_metadata[[#This Row],[chg]],\"Link\")\t\n",
      "036bed01-1dbf-4b9a-a238-01880ebf019b\ttrue\tCHG0788076\t=HYPERLINK(\"https://csc.service-now.com/nav_to.do?uri=change_request.do?sysparm_query=number=\"&session_metadata[[#This Row],[chg]],\"Link\")\t\n",
      "036ef4f4-7867-4bd4-a9d7-0186e9874040\ttrue\tCHG0788076\t=HYPERLINK(\"https://csc.service-now.com/nav_to.do?uri=change_request.do?sysparm_query=number=\"&session_metadata[[#This Row],[chg]],\"Link\")\t\n",
      "036ff4b2-316b-43fc-a1a1-01885190a0f4\ttrue\tCHG0788076\t=HYPERLINK(\"https://csc.service-now.com/nav_to.do?uri=change_request.do?sysparm_query=number=\"&session_metadata[[#This Row],[chg]],\"Link\")\t\n",
      "037efe98-05d7-4856-a290-0186c527c6b6\ttrue\tCHG0788076\t=HYPERLINK(\"https://csc.service-now.com/nav_to.do?uri=change_request.do?sysparm_query=number=\"&session_metadata[[#This Row],[chg]],\"Link\")\t\n",
      "038de7bb-a65f-4769-a827-0186d9e931d2\ttrue\tCHG0788076\t=HYPERLINK(\"https://csc.service-now.com/nav_to.do?uri=change_request.do?sysparm_query=number=\"&session_metadata[[#This Row],[chg]],\"Link\")\t\n",
      "0398cfd4-d52f-4c98-a9b6-0187462dfc6e\ttrue\tCHG0788076\t=HYPERLINK(\"https://csc.service-now.com/nav_to.do?uri=change_request.do?sysparm_query=number=\"&session_metadata[[#This Row],[chg]],\"Link\")\t\n",
      "03bb9e3d-cd8e-4f38-a4cf-0188057bd2c4\ttrue\tCHG0788076\t=HYPERLINK(\"https://csc.service-now.com/nav_to.do?uri=change_request.do?sysparm_query=number=\"&session_metadata[[#This Row],[chg]],\"Link\")\t\n",
      "03d2a1c2-760b-497a-a0e6-01881057180f\ttrue\tCHG0788076\t=HYPERLINK(\"https://csc.service-now.com/nav_to.do?uri=change_request.do?sysparm_query=number=\"&session_metadata[[#This Row],[chg]],\"Link\")\t\n",
      "03da1003-d852-4b6f-abfb-0187ed28c790\ttrue\tCHG0788076\t=HYPERLINK(\"https://csc.service-now.com/nav_to.do?uri=change_request.do?sysparm_query=number=\"&session_metadata[[#This Row],[chg]],\"Link\")\t\n",
      "03ef9731-1a00-472c-a638-0186ff6e0e2a\ttrue\tCHG0788076\t=HYPERLINK(\"https://csc.service-now.com/nav_to.do?uri=change_request.do?sysparm_query=number=\"&session_metadata[[#This Row],[chg]],\"Link\")\t\n",
      "03f0cfff-4672-4b16-aa2f-018870c4c8c6\ttrue\tCHG0788076\t=HYPERLINK(\"https://csc.service-now.com/nav_to.do?uri=change_request.do?sysparm_query=number=\"&session_metadata[[#This Row],[chg]],\"Link\")\t\n",
      "03f4e26a-0cb7-4efa-a3b7-0187130078b7\ttrue\tCHG0788076\t=HYPERLINK(\"https://csc.service-now.com/nav_to.do?uri=change_request.do?sysparm_query=number=\"&session_metadata[[#This Row],[chg]],\"Link\")\t\n",
      "03f91519-6f67-4b2a-ada6-0188b442a602\ttrue\tCHG0788076\t=HYPERLINK(\"https://csc.service-now.com/nav_to.do?uri=change_request.do?sysparm_query=number=\"&session_metadata[[#This Row],[chg]],\"Link\")\t\n",
      "04085afc-9099-41d9-abd3-0187ec75c67e\ttrue\tCHG0788076\t=HYPERLINK(\"https://csc.service-now.com/nav_to.do?uri=change_request.do?sysparm_query=number=\"&session_metadata[[#This Row],[chg]],\"Link\")\t\n",
      "042d51b9-7fa6-44ee-aad0-01879d24484f\ttrue\tCHG0788076\t=HYPERLINK(\"https://csc.service-now.com/nav_to.do?uri=change_request.do?sysparm_query=number=\"&session_metadata[[#This Row],[chg]],\"Link\")\t\n",
      "0431adc9-d022-4139-ae70-018316faf988\ttrue\tCHG0788076\t=HYPERLINK(\"https://csc.service-now.com/nav_to.do?uri=change_request.do?sysparm_query=number=\"&session_metadata[[#This Row],[chg]],\"Link\")\t\n",
      "0433ebc6-54c6-4f47-aff9-0188338439f3\ttrue\tCHG0788076\t=HYPERLINK(\"https://csc.service-now.com/nav_to.do?uri=change_request.do?sysparm_query=number=\"&session_metadata[[#This Row],[chg]],\"Link\")\t\n",
      "0435857b-967a-417b-a8fc-0182a021cf77\ttrue\tCHG0788076\t=HYPERLINK(\"https://csc.service-now.com/nav_to.do?uri=change_request.do?sysparm_query=number=\"&session_metadata[[#This Row],[chg]],\"Link\")\t\n",
      "0436f152-1ca0-4a37-af07-018737c8f80b\ttrue\tCHG0788076\t=HYPERLINK(\"https://csc.service-now.com/nav_to.do?uri=change_request.do?sysparm_query=number=\"&session_metadata[[#This Row],[chg]],\"Link\")\t\n",
      "0437c58f-9824-4699-abe4-018417c31cbf\ttrue\tCHG0788076\t=HYPERLINK(\"https://csc.service-now.com/nav_to.do?uri=change_request.do?sysparm_query=number=\"&session_metadata[[#This Row],[chg]],\"Link\")\t\n",
      "044430c4-de6d-48fe-abef-0186ca9e3c59\ttrue\tCHG0788076\t=HYPERLINK(\"https://csc.service-now.com/nav_to.do?uri=change_request.do?sysparm_query=number=\"&session_metadata[[#This Row],[chg]],\"Link\")\t\n",
      "04520cd2-df9d-4156-ac7a-018703a46c2d\ttrue\tCHG0788076\t=HYPERLINK(\"https://csc.service-now.com/nav_to.do?uri=change_request.do?sysparm_query=number=\"&session_metadata[[#This Row],[chg]],\"Link\")\t\n",
      "04539cfe-fb92-46fc-a21f-018345a8d3eb\ttrue\tCHG0788076\t=HYPERLINK(\"https://csc.service-now.com/nav_to.do?uri=change_request.do?sysparm_query=number=\"&session_metadata[[#This Row],[chg]],\"Link\")\t\n",
      "0461e030-0ff6-49c1-aaac-01872365a023\ttrue\tCHG0788076\t=HYPERLINK(\"https://csc.service-now.com/nav_to.do?uri=change_request.do?sysparm_query=number=\"&session_metadata[[#This Row],[chg]],\"Link\")\t\n",
      "0465a7ff-134d-47b9-a789-01826cfe5032\ttrue\tCHG0788076\t=HYPERLINK(\"https://csc.service-now.com/nav_to.do?uri=change_request.do?sysparm_query=number=\"&session_metadata[[#This Row],[chg]],\"Link\")\t\n",
      "04697839-870f-411c-a60a-0187141961f7\ttrue\tCHG0788076\t=HYPERLINK(\"https://csc.service-now.com/nav_to.do?uri=change_request.do?sysparm_query=number=\"&session_metadata[[#This Row],[chg]],\"Link\")\t\n",
      "046e3150-6013-4d64-a341-01871260e1f6\ttrue\tCHG0788076\t=HYPERLINK(\"https://csc.service-now.com/nav_to.do?uri=change_request.do?sysparm_query=number=\"&session_metadata[[#This Row],[chg]],\"Link\")\t\n",
      "047968d2-6538-4290-a3f6-0182a0f61ee9\ttrue\tCHG0788076\t=HYPERLINK(\"https://csc.service-now.com/nav_to.do?uri=change_request.do?sysparm_query=number=\"&session_metadata[[#This Row],[chg]],\"Link\")\t\n",
      "047b449d-e4b5-414c-abab-0187e5d77b0c\ttrue\tCHG0788076\t=HYPERLINK(\"https://csc.service-now.com/nav_to.do?uri=change_request.do?sysparm_query=number=\"&session_metadata[[#This Row],[chg]],\"Link\")\t\n",
      "0480ca5e-df06-4ef3-ab21-01833ac8d1c3\ttrue\tCHG0788076\t=HYPERLINK(\"https://csc.service-now.com/nav_to.do?uri=change_request.do?sysparm_query=number=\"&session_metadata[[#This Row],[chg]],\"Link\")\t\n",
      "04820e3f-5716-485c-acad-0187b7980c90\ttrue\tCHG0788076\t=HYPERLINK(\"https://csc.service-now.com/nav_to.do?uri=change_request.do?sysparm_query=number=\"&session_metadata[[#This Row],[chg]],\"Link\")\t\n",
      "048d2b7f-c625-420d-ad75-018828bf6a81\ttrue\tCHG0788076\t=HYPERLINK(\"https://csc.service-now.com/nav_to.do?uri=change_request.do?sysparm_query=number=\"&session_metadata[[#This Row],[chg]],\"Link\")\t\n",
      "048e7d01-ec3d-4574-a42d-018346e84178\ttrue\tCHG0788076\t=HYPERLINK(\"https://csc.service-now.com/nav_to.do?uri=change_request.do?sysparm_query=number=\"&session_metadata[[#This Row],[chg]],\"Link\")\t\n",
      "049a4655-46a3-42c2-a3dd-018848bcec72\ttrue\tCHG0788076\t=HYPERLINK(\"https://csc.service-now.com/nav_to.do?uri=change_request.do?sysparm_query=number=\"&session_metadata[[#This Row],[chg]],\"Link\")\t\n",
      "049f6358-66a5-4d84-a85a-018703fc3ddb\ttrue\tCHG0788076\t=HYPERLINK(\"https://csc.service-now.com/nav_to.do?uri=change_request.do?sysparm_query=number=\"&session_metadata[[#This Row],[chg]],\"Link\")\t\n",
      "04a64992-669f-4b65-abb1-0183f54617f7\ttrue\tCHG0788076\t=HYPERLINK(\"https://csc.service-now.com/nav_to.do?uri=change_request.do?sysparm_query=number=\"&session_metadata[[#This Row],[chg]],\"Link\")\t\n",
      "04a87fad-cf97-4362-aaa5-0186ff3addaf\ttrue\tCHG0788076\t=HYPERLINK(\"https://csc.service-now.com/nav_to.do?uri=change_request.do?sysparm_query=number=\"&session_metadata[[#This Row],[chg]],\"Link\")\t\n",
      "04b3be3a-b7c4-49b3-a125-018750101c9c\ttrue\tCHG0788076\t=HYPERLINK(\"https://csc.service-now.com/nav_to.do?uri=change_request.do?sysparm_query=number=\"&session_metadata[[#This Row],[chg]],\"Link\")\t\n",
      "04b6aae6-cbee-4c84-abce-018750ea4c79\ttrue\tCHG0788076\t=HYPERLINK(\"https://csc.service-now.com/nav_to.do?uri=change_request.do?sysparm_query=number=\"&session_metadata[[#This Row],[chg]],\"Link\")\t\n",
      "04b7ee34-e79d-44d8-a9d4-0182f38b8833\ttrue\tCHG0788076\t=HYPERLINK(\"https://csc.service-now.com/nav_to.do?uri=change_request.do?sysparm_query=number=\"&session_metadata[[#This Row],[chg]],\"Link\")\t\n",
      "04b9c7e5-45f0-47e0-aa53-018268531308\ttrue\tCHG0788076\t=HYPERLINK(\"https://csc.service-now.com/nav_to.do?uri=change_request.do?sysparm_query=number=\"&session_metadata[[#This Row],[chg]],\"Link\")\t\n",
      "04c698e7-1834-4a9b-a0b5-01884ccfce1a\ttrue\tCHG0788076\t=HYPERLINK(\"https://csc.service-now.com/nav_to.do?uri=change_request.do?sysparm_query=number=\"&session_metadata[[#This Row],[chg]],\"Link\")\t\n",
      "04c76e39-fcd2-4f1f-adf7-0187bc5addfd\ttrue\tCHG0788076\t=HYPERLINK(\"https://csc.service-now.com/nav_to.do?uri=change_request.do?sysparm_query=number=\"&session_metadata[[#This Row],[chg]],\"Link\")\t\n",
      "04d49a7e-1314-4632-aba5-0183c6e30e99\ttrue\tCHG0788076\t=HYPERLINK(\"https://csc.service-now.com/nav_to.do?uri=change_request.do?sysparm_query=number=\"&session_metadata[[#This Row],[chg]],\"Link\")\t\n",
      "04fe63f8-95d4-4811-a15d-018793d4b049\ttrue\tCHG0788076\t=HYPERLINK(\"https://csc.service-now.com/nav_to.do?uri=change_request.do?sysparm_query=number=\"&session_metadata[[#This Row],[chg]],\"Link\")\t\n",
      "052a4261-20c3-4538-af3a-01877ab64a42\ttrue\tCHG0788076\t=HYPERLINK(\"https://csc.service-now.com/nav_to.do?uri=change_request.do?sysparm_query=number=\"&session_metadata[[#This Row],[chg]],\"Link\")\t\n",
      "053c30d2-a1f3-439e-a5ec-0187e5ab9860\ttrue\tCHG0788076\t=HYPERLINK(\"https://csc.service-now.com/nav_to.do?uri=change_request.do?sysparm_query=number=\"&session_metadata[[#This Row],[chg]],\"Link\")\t\n",
      "0546107a-8218-4d10-a721-018828484c82\ttrue\tCHG0788076\t=HYPERLINK(\"https://csc.service-now.com/nav_to.do?uri=change_request.do?sysparm_query=number=\"&session_metadata[[#This Row],[chg]],\"Link\")\t\n",
      "0547e4ef-1805-4be3-a18f-017d5b2eef2a\ttrue\tCHG0788076\t=HYPERLINK(\"https://csc.service-now.com/nav_to.do?uri=change_request.do?sysparm_query=number=\"&session_metadata[[#This Row],[chg]],\"Link\")\t\n",
      "0555d32f-78f3-436d-a0d9-017d4d8d6dc0\ttrue\tCHG0788076\t=HYPERLINK(\"https://csc.service-now.com/nav_to.do?uri=change_request.do?sysparm_query=number=\"&session_metadata[[#This Row],[chg]],\"Link\")\t\n",
      "055ab31c-1bb0-4519-ad91-018750c246c6\ttrue\tCHG0788076\t=HYPERLINK(\"https://csc.service-now.com/nav_to.do?uri=change_request.do?sysparm_query=number=\"&session_metadata[[#This Row],[chg]],\"Link\")\t\n",
      "055ea693-26d4-4c48-ac5e-01884865cac9\ttrue\tCHG0788076\t=HYPERLINK(\"https://csc.service-now.com/nav_to.do?uri=change_request.do?sysparm_query=number=\"&session_metadata[[#This Row],[chg]],\"Link\")\t\n",
      "056b97bf-f40f-40e0-af0b-0188b8927330\ttrue\tCHG0788076\t=HYPERLINK(\"https://csc.service-now.com/nav_to.do?uri=change_request.do?sysparm_query=number=\"&session_metadata[[#This Row],[chg]],\"Link\")\t\n",
      "057cddd5-7a98-4bbd-abb1-0188710db33b\ttrue\tCHG0788076\t=HYPERLINK(\"https://csc.service-now.com/nav_to.do?uri=change_request.do?sysparm_query=number=\"&session_metadata[[#This Row],[chg]],\"Link\")\t\n",
      "0588fcbe-2d01-40ac-a96f-018726f74141\ttrue\tCHG0788076\t=HYPERLINK(\"https://csc.service-now.com/nav_to.do?uri=change_request.do?sysparm_query=number=\"&session_metadata[[#This Row],[chg]],\"Link\")\t\n",
      "059a037e-588e-4009-af22-018774cf68b1\ttrue\tCHG0788076\t=HYPERLINK(\"https://csc.service-now.com/nav_to.do?uri=change_request.do?sysparm_query=number=\"&session_metadata[[#This Row],[chg]],\"Link\")\t\n",
      "05a0e0ea-c4a3-47c9-a1ea-0187dbff8f16\ttrue\tCHG0788076\t=HYPERLINK(\"https://csc.service-now.com/nav_to.do?uri=change_request.do?sysparm_query=number=\"&session_metadata[[#This Row],[chg]],\"Link\")\t\n",
      "05a250d0-5db9-46b9-a6ce-0186a2866569\ttrue\tCHG0788076\t=HYPERLINK(\"https://csc.service-now.com/nav_to.do?uri=change_request.do?sysparm_query=number=\"&session_metadata[[#This Row],[chg]],\"Link\")\t\n",
      "05a8e620-da21-4ab1-adcb-0187f9f95120\ttrue\tCHG0788076\t=HYPERLINK(\"https://csc.service-now.com/nav_to.do?uri=change_request.do?sysparm_query=number=\"&session_metadata[[#This Row],[chg]],\"Link\")\t\n",
      "05b24e2f-37f3-46b0-ab09-0186a2c1f8ba\ttrue\tCHG0788076\t=HYPERLINK(\"https://csc.service-now.com/nav_to.do?uri=change_request.do?sysparm_query=number=\"&session_metadata[[#This Row],[chg]],\"Link\")\t\n",
      "05baf6e1-bca6-4aa6-af3b-017d7f0644af\ttrue\tCHG0788076\t=HYPERLINK(\"https://csc.service-now.com/nav_to.do?uri=change_request.do?sysparm_query=number=\"&session_metadata[[#This Row],[chg]],\"Link\")\t\n",
      "0600601e-61e9-4c19-a57c-0181f6ddec56\ttrue\tCHG0788076\t=HYPERLINK(\"https://csc.service-now.com/nav_to.do?uri=change_request.do?sysparm_query=number=\"&session_metadata[[#This Row],[chg]],\"Link\")\t\n",
      "0604fd36-cddf-4757-a874-0188108714fa\ttrue\tCHG0788076\t=HYPERLINK(\"https://csc.service-now.com/nav_to.do?uri=change_request.do?sysparm_query=number=\"&session_metadata[[#This Row],[chg]],\"Link\")\t\n",
      "0605a8ea-c91d-48a3-af7d-018713cea3c4\ttrue\tCHG0788076\t=HYPERLINK(\"https://csc.service-now.com/nav_to.do?uri=change_request.do?sysparm_query=number=\"&session_metadata[[#This Row],[chg]],\"Link\")\t\n",
      "06072673-822b-4057-a52f-0187bd9810a5\ttrue\tCHG0788076\t=HYPERLINK(\"https://csc.service-now.com/nav_to.do?uri=change_request.do?sysparm_query=number=\"&session_metadata[[#This Row],[chg]],\"Link\")\t\n",
      "06183f0f-2d30-4fcc-a63e-0186e43ab114\ttrue\tCHG0788076\t=HYPERLINK(\"https://csc.service-now.com/nav_to.do?uri=change_request.do?sysparm_query=number=\"&session_metadata[[#This Row],[chg]],\"Link\")\t\n",
      "061babf0-cecb-4dc8-a6c1-018751252191\ttrue\tCHG0788076\t=HYPERLINK(\"https://csc.service-now.com/nav_to.do?uri=change_request.do?sysparm_query=number=\"&session_metadata[[#This Row],[chg]],\"Link\")\t\n",
      "062462ec-7a1b-4a86-ac45-018856a4334a\ttrue\tCHG0788076\t=HYPERLINK(\"https://csc.service-now.com/nav_to.do?uri=change_request.do?sysparm_query=number=\"&session_metadata[[#This Row],[chg]],\"Link\")\t\n",
      "0628a104-d96b-4420-ac4a-0187032796d2\ttrue\tCHG0788076\t=HYPERLINK(\"https://csc.service-now.com/nav_to.do?uri=change_request.do?sysparm_query=number=\"&session_metadata[[#This Row],[chg]],\"Link\")\t\n",
      "06291d0a-e539-4ac8-a4c5-018793e8fb23\ttrue\tCHG0788076\t=HYPERLINK(\"https://csc.service-now.com/nav_to.do?uri=change_request.do?sysparm_query=number=\"&session_metadata[[#This Row],[chg]],\"Link\")\t\n",
      "0629dec8-8ddb-4e0f-a9ad-018852ab64ca\ttrue\tCHG0788076\t=HYPERLINK(\"https://csc.service-now.com/nav_to.do?uri=change_request.do?sysparm_query=number=\"&session_metadata[[#This Row],[chg]],\"Link\")\t\n",
      "062b769e-4359-406c-a9eb-018793468f23\ttrue\tCHG0788076\t=HYPERLINK(\"https://csc.service-now.com/nav_to.do?uri=change_request.do?sysparm_query=number=\"&session_metadata[[#This Row],[chg]],\"Link\")\t\n",
      "062bc139-35bc-46be-a58c-01886b8deae7\ttrue\tCHG0788076\t=HYPERLINK(\"https://csc.service-now.com/nav_to.do?uri=change_request.do?sysparm_query=number=\"&session_metadata[[#This Row],[chg]],\"Link\")\t\n",
      "06342314-dd36-471a-a11a-0187511a150f\ttrue\tCHG0788076\t=HYPERLINK(\"https://csc.service-now.com/nav_to.do?uri=change_request.do?sysparm_query=number=\"&session_metadata[[#This Row],[chg]],\"Link\")\t\n",
      "063a5e5a-4236-4fee-a9af-01881ab2fbde\ttrue\tCHG0788076\t=HYPERLINK(\"https://csc.service-now.com/nav_to.do?uri=change_request.do?sysparm_query=number=\"&session_metadata[[#This Row],[chg]],\"Link\")\t\n",
      "06515f32-abb8-466b-a933-018708ba7a78\ttrue\tCHG0788076\t=HYPERLINK(\"https://csc.service-now.com/nav_to.do?uri=change_request.do?sysparm_query=number=\"&session_metadata[[#This Row],[chg]],\"Link\")\t\n",
      "0652c35c-5ad2-4bf8-ae44-018851b12430\ttrue\tCHG0788076\t=HYPERLINK(\"https://csc.service-now.com/nav_to.do?uri=change_request.do?sysparm_query=number=\"&session_metadata[[#This Row],[chg]],\"Link\")\t\n",
      "06608cfa-fd9d-4160-ac5b-0188724efb58\ttrue\tCHG0788076\t=HYPERLINK(\"https://csc.service-now.com/nav_to.do?uri=change_request.do?sysparm_query=number=\"&session_metadata[[#This Row],[chg]],\"Link\")\t\n",
      "0662e2af-6b04-4271-a947-0188b5073158\ttrue\tCHG0788076\t=HYPERLINK(\"https://csc.service-now.com/nav_to.do?uri=change_request.do?sysparm_query=number=\"&session_metadata[[#This Row],[chg]],\"Link\")\t\n",
      "0667f92b-7696-4f03-a0d1-01882513575c\ttrue\tCHG0788076\t=HYPERLINK(\"https://csc.service-now.com/nav_to.do?uri=change_request.do?sysparm_query=number=\"&session_metadata[[#This Row],[chg]],\"Link\")\t\n",
      "0674a95a-97ee-4b2e-a52b-01874afd28a3\ttrue\tCHG0788076\t=HYPERLINK(\"https://csc.service-now.com/nav_to.do?uri=change_request.do?sysparm_query=number=\"&session_metadata[[#This Row],[chg]],\"Link\")\t\n",
      "0676432b-a530-48b2-a92d-0187fa139b92\ttrue\tCHG0788076\t=HYPERLINK(\"https://csc.service-now.com/nav_to.do?uri=change_request.do?sysparm_query=number=\"&session_metadata[[#This Row],[chg]],\"Link\")\t\n",
      "06770788-0994-4509-a1a1-0186bba7a636\ttrue\tCHG0788076\t=HYPERLINK(\"https://csc.service-now.com/nav_to.do?uri=change_request.do?sysparm_query=number=\"&session_metadata[[#This Row],[chg]],\"Link\")\t\n",
      "067c8c64-a005-4af4-af21-0187a3955b13\ttrue\tCHG0788076\t=HYPERLINK(\"https://csc.service-now.com/nav_to.do?uri=change_request.do?sysparm_query=number=\"&session_metadata[[#This Row],[chg]],\"Link\")\t\n",
      "068076de-2993-4352-ab63-0187bd0213db\ttrue\tCHG0788076\t=HYPERLINK(\"https://csc.service-now.com/nav_to.do?uri=change_request.do?sysparm_query=number=\"&session_metadata[[#This Row],[chg]],\"Link\")\t\n",
      "06871e2e-0b92-4d13-a74c-0186eabc10a9\ttrue\tCHG0788076\t=HYPERLINK(\"https://csc.service-now.com/nav_to.do?uri=change_request.do?sysparm_query=number=\"&session_metadata[[#This Row],[chg]],\"Link\")\t\n",
      "0694c146-1f4a-4152-a509-0186bb50b8b9\ttrue\tCHG0788076\t=HYPERLINK(\"https://csc.service-now.com/nav_to.do?uri=change_request.do?sysparm_query=number=\"&session_metadata[[#This Row],[chg]],\"Link\")\t\n",
      "06cccf42-a03c-49f9-ad7d-018709a190d3\ttrue\tCHG0788076\t=HYPERLINK(\"https://csc.service-now.com/nav_to.do?uri=change_request.do?sysparm_query=number=\"&session_metadata[[#This Row],[chg]],\"Link\")\t\n",
      "06dcf72c-a4c0-489d-a93a-01833162d341\ttrue\tCHG0788076\t=HYPERLINK(\"https://csc.service-now.com/nav_to.do?uri=change_request.do?sysparm_query=number=\"&session_metadata[[#This Row],[chg]],\"Link\")\t\n",
      "06e0a37f-ab62-4eba-abaa-0188200e4432\ttrue\tCHG0788076\t=HYPERLINK(\"https://csc.service-now.com/nav_to.do?uri=change_request.do?sysparm_query=number=\"&session_metadata[[#This Row],[chg]],\"Link\")\t\n",
      "06f9e8bf-7e27-4a41-a6ee-0182e87b94ac\ttrue\tCHG0788076\t=HYPERLINK(\"https://csc.service-now.com/nav_to.do?uri=change_request.do?sysparm_query=number=\"&session_metadata[[#This Row],[chg]],\"Link\")\t\n",
      "06fa8e9b-9007-4c42-a04c-0187c165715b\ttrue\tCHG0788076\t=HYPERLINK(\"https://csc.service-now.com/nav_to.do?uri=change_request.do?sysparm_query=number=\"&session_metadata[[#This Row],[chg]],\"Link\")\t\n",
      "070a9d57-7e93-4401-a5ce-0187c84b0008\ttrue\tCHG0788076\t=HYPERLINK(\"https://csc.service-now.com/nav_to.do?uri=change_request.do?sysparm_query=number=\"&session_metadata[[#This Row],[chg]],\"Link\")\t\n"
     ]
    }
   ],
   "source": [
    "read_excel( 'unavailable_sessions_.xlsx','SMS update history')"
   ]
  },
  {
   "cell_type": "code",
   "execution_count": 9,
   "metadata": {},
   "outputs": [],
   "source": [
    "def create_dataframe_from_excel_sheet(file_name, name_sheet):\n",
    "    result = pd.read_excel(file_name, sheet_name=name_sheet)\n",
    "    return result\n",
    "\n"
   ]
  },
  {
   "cell_type": "code",
   "execution_count": 10,
   "metadata": {},
   "outputs": [],
   "source": [
    "a1 = create_dataframe_from_excel_sheet(file_excel, 'Erasure coding volumes')"
   ]
  },
  {
   "cell_type": "code",
   "execution_count": 16,
   "metadata": {},
   "outputs": [
    {
     "name": "stdout",
     "output_type": "stream",
     "text": [
      "Index(['path', 'vin', 'session_id', 'recording_date', 'volume_type'], dtype='object') <class 'pandas.core.indexes.base.Index'>\n",
      "['path', 'vin', 'session_id', 'recording_date', 'volume_type'] <class 'list'>\n",
      "(19098, 5)\n",
      "<class 'pandas.core.frame.DataFrame'>\n",
      "RangeIndex: 19098 entries, 0 to 19097\n",
      "Data columns (total 5 columns):\n",
      " #   Column          Non-Null Count  Dtype         \n",
      "---  ------          --------------  -----         \n",
      " 0   path            19098 non-null  object        \n",
      " 1   vin             19098 non-null  object        \n",
      " 2   session_id      19098 non-null  object        \n",
      " 3   recording_date  19098 non-null  datetime64[ns]\n",
      " 4   volume_type     19098 non-null  object        \n",
      "dtypes: datetime64[ns](1), object(4)\n",
      "memory usage: 746.1+ KB\n",
      "None\n"
     ]
    }
   ],
   "source": [
    "a1_columns =  a1.columns \n",
    "print( a1_columns , type(a1_columns))\n",
    "a1_columns_list = list( a1_columns )\n",
    "print( a1_columns_list , type(a1_columns_list))\n",
    "print( a1.shape)\n",
    "print( a1.info(verbose=True) )\n"
   ]
  },
  {
   "cell_type": "code",
   "execution_count": 17,
   "metadata": {},
   "outputs": [],
   "source": [
    "a1_100 = a1.iloc[:100]"
   ]
  },
  {
   "cell_type": "code",
   "execution_count": 18,
   "metadata": {},
   "outputs": [],
   "source": [
    "def data_frame_to_json( data_frame ):\n",
    "    result = data_frame.to_json( 'a1_100.json')\n",
    "    \n"
   ]
  },
  {
   "cell_type": "code",
   "execution_count": 19,
   "metadata": {},
   "outputs": [],
   "source": [
    "data_frame_to_json( a1_100 )"
   ]
  },
  {
   "cell_type": "code",
   "execution_count": 31,
   "metadata": {},
   "outputs": [
    {
     "name": "stdout",
     "output_type": "stream",
     "text": [
      "<class 'pandas.core.series.Series'> \n",
      "path                      object\n",
      "vin                       object\n",
      "session_id                object\n",
      "recording_date    datetime64[ns]\n",
      "volume_type               object\n",
      "dtype: object\n"
     ]
    }
   ],
   "source": [
    "column_data_types = a1[a1.columns].dtypes\n",
    "print( f'{type(column_data_types)} \\n{column_data_types}')"
   ]
  },
  {
   "cell_type": "code",
   "execution_count": 32,
   "metadata": {},
   "outputs": [
    {
     "name": "stdout",
     "output_type": "stream",
     "text": [
      "   int_col  float_col     str_col  bool_col datetime_col timedelta_col  \\\n",
      "0        1        1.1       apple      True   2022-01-01        1 days   \n",
      "1        2        2.2      banana     False   2022-02-01        2 days   \n",
      "2        3        3.3      cherry      True   2022-03-01        3 days   \n",
      "3        4        4.4        date     False   2022-04-01        4 days   \n",
      "4        5        5.5  elderberry      True   2022-05-01        5 days   \n",
      "\n",
      "  category_col object_col  \n",
      "0          cat          1  \n",
      "1          dog     string  \n",
      "2          dog       3.14  \n",
      "3         bird       True  \n",
      "4          cat       None  \n",
      "int_col                    int64\n",
      "float_col                float64\n",
      "str_col                   object\n",
      "bool_col                    bool\n",
      "datetime_col      datetime64[ns]\n",
      "timedelta_col    timedelta64[ns]\n",
      "category_col            category\n",
      "object_col                object\n",
      "dtype: object\n"
     ]
    }
   ],
   "source": [
    "data = {\n",
    "    'int_col': [1, 2, 3, 4, 5],\n",
    "    'float_col': [1.1, 2.2, 3.3, 4.4, 5.5],\n",
    "    'str_col': ['apple', 'banana', 'cherry', 'date', 'elderberry'],\n",
    "    'bool_col': [True, False, True, False, True],\n",
    "    'datetime_col': pd.to_datetime(['2022-01-01', '2022-02-01', '2022-03-01', '2022-04-01', '2022-05-01']),\n",
    "    'timedelta_col': [pd.Timedelta(days=1), pd.Timedelta(days=2), pd.Timedelta(days=3), pd.Timedelta(days=4), pd.Timedelta(days=5)],\n",
    "    'category_col': pd.Categorical(['cat', 'dog', 'dog', 'bird', 'cat']),\n",
    "    'object_col': [1, 'string', 3.14, True, None],\n",
    "}\n",
    "\n",
    "df = pd.DataFrame(data)\n",
    "\n",
    "# Display the DataFrame and its data types\n",
    "print(df)\n",
    "print(df.dtypes)"
   ]
  },
  {
   "cell_type": "code",
   "execution_count": 33,
   "metadata": {},
   "outputs": [
    {
     "name": "stdout",
     "output_type": "stream",
     "text": [
      "     int64 float64 object  bool datetime64 timedelta64 category object_col\n",
      "0  INTEGER   FLOAT   TEXT  BOOL       DATE      1 days     TEXT          1\n",
      "1  INTEGER   FLOAT   TEXT  BOOL       DATE      2 days     TEXT     string\n",
      "2  INTEGER   FLOAT   TEXT  BOOL       DATE      3 days     TEXT       3.14\n",
      "3  INTEGER   FLOAT   TEXT  BOOL       DATE      4 days     TEXT       True\n",
      "4  INTEGER   FLOAT   TEXT  BOOL       DATE      5 days     TEXT       None\n",
      "int64                   object\n",
      "float64                 object\n",
      "object                  object\n",
      "bool                    object\n",
      "datetime64              object\n",
      "timedelta64    timedelta64[ns]\n",
      "category                object\n",
      "object_col              object\n",
      "dtype: object\n"
     ]
    }
   ],
   "source": [
    "types = {\n",
    "    'int64': 'INTEGER',\n",
    "    'float64': 'FLOAT',\n",
    "    'object': 'TEXT',\n",
    "    'bool': 'BOOL',\n",
    "    'datetime64': 'DATE',\n",
    "    'timedelta64': [pd.Timedelta(days=1), pd.Timedelta(days=2), pd.Timedelta(days=3), pd.Timedelta(days=4), pd.Timedelta(days=5)],\n",
    "    'category': 'TEXT',\n",
    "    'object_col': [1, 'string', 3.14, True, None],\n",
    "}\n",
    "\n",
    "df = pd.DataFrame(types)\n",
    "\n",
    "# Display the DataFrame and its data types\n",
    "print(df)\n",
    "print(df.dtypes)"
   ]
  },
  {
   "cell_type": "code",
   "execution_count": null,
   "metadata": {},
   "outputs": [],
   "source": [
    "class BaseConfig:\n",
    "    # AIRFLOW_API_ENDPOINT = \"{{airflow_api_endpoint}}\"\n",
    "    AIRFLOW_API_ENDPOINT = r'url'"
   ]
  },
  {
   "cell_type": "code",
   "execution_count": null,
   "metadata": {},
   "outputs": [],
   "source": [
    "class AirflowDagsMonitoringConfig(BaseConfig):\n",
    "    DAGS_TO_MONITOR = {\n",
    "    \n",
    "        \"name1\":       {'dag_name ':'dag_name1', 'status': 'success', 'treshold':  24 },\n",
    "        \"name2\":        {'dag_name ':'dag_name2', 'status': 'success', 'treshold':  12 },\n",
    "        \"name3\": {'dag_name ':'dag_name3', 'status': 'success', 'treshold':  20 },\n",
    "\n",
    "    }"
   ]
  },
  {
   "cell_type": "code",
   "execution_count": null,
   "metadata": {},
   "outputs": [],
   "source": [
    "class AirflowAPIConnection(AirflowDagsMonitoringConfig):\n",
    "    def __init__(self, username, password, base_url, proxies=None):\n",
    "        \"\"\"\n",
    "        Initialize the AirflowAPI class.\n",
    "\n",
    "        Parameters:\n",
    "        - username (str): The username for authentication.\n",
    "        - password (str): The password for authentication.\n",
    "        - base_url (str): The base URL of the Airflow REST API.\n",
    "        - proxies (dict, optional): Proxy settings if needed.\n",
    "        \"\"\"\n",
    "        super().__init__() # Call the constructor of the parent class (AirflowDagsMonitoringConfig)\n",
    "        self.username = username\n",
    "        self.password = password\n",
    "        self.base_url = base_url\n",
    "        self.proxies = proxies\n",
    "    \n",
    "    def get_dag_runs(self, task_id='data_retention'):\n",
    "        \"\"\"\n",
    "        Retrieve DAG runs from the Airflow REST API for a specified task_id.\n",
    "\n",
    "        Parameters:\n",
    "        - task_id (str, optional): The ID of the Airflow DAG. Defaults to 'data_retention'.\n",
    "\n",
    "        Returns:\n",
    "        - res_j (dict): A dictionary containing the response from the Airflow REST API in JSON format.\n",
    "        \"\"\"\n",
    "        \n",
    "        auth = HTTPBasicAuth(self.username, self.password)\n",
    "        connection = {\n",
    "            \"proxies\": self.proxies,\n",
    "            'url': f\"{self.base_url}/..../,,,,/..../{task_id}/____\",\n",
    "        }\n",
    "        with requests.Session() as session:\n",
    "            session.auth = auth\n",
    "            session.verify = False\n",
    "            \n",
    "            try:\n",
    "                res = session.get(connection['url'], proxies=connection['proxies'])\n",
    "            except requests.exceptions.Timeout:\n",
    "                return \"Error: Request timed out\", 504\n",
    "\n",
    "            res_j = res.json()\n",
    "            return res_j"
   ]
  },
  {
   "cell_type": "code",
   "execution_count": null,
   "metadata": {},
   "outputs": [],
   "source": [
    "username= 'username'\n",
    "password = 'password'\n",
    "base_url = r'url'"
   ]
  },
  {
   "cell_type": "code",
   "execution_count": null,
   "metadata": {},
   "outputs": [],
   "source": [
    "# Example usage:\n",
    "# Create an instance of AirflowAPIConnection\n",
    "airflow_conn = AirflowAPIConnection(username, password, base_url)"
   ]
  },
  {
   "cell_type": "code",
   "execution_count": null,
   "metadata": {},
   "outputs": [],
   "source": [
    "# Access the configuration data from AirflowDagsMonitoringConfig\n",
    "config_data = airflow_conn.DAGS_TO_MONITOR"
   ]
  }
 ],
 "metadata": {
  "kernelspec": {
   "display_name": "Python 3",
   "language": "python",
   "name": "python3"
  },
  "language_info": {
   "codemirror_mode": {
    "name": "ipython",
    "version": 3
   },
   "file_extension": ".py",
   "mimetype": "text/x-python",
   "name": "python",
   "nbconvert_exporter": "python",
   "pygments_lexer": "ipython3",
   "version": "3.12.0"
  }
 },
 "nbformat": 4,
 "nbformat_minor": 2
}
